{
  "nbformat": 4,
  "nbformat_minor": 0,
  "metadata": {
    "colab": {
      "name": "preprocessing",
      "provenance": [],
      "authorship_tag": "ABX9TyPpfWuGHkMkpUxHDXhRfmtJ",
      "include_colab_link": true
    },
    "kernelspec": {
      "name": "python3",
      "display_name": "Python 3"
    },
    "language_info": {
      "name": "python"
    },
    "accelerator": "GPU"
  },
  "cells": [
    {
      "cell_type": "markdown",
      "metadata": {
        "id": "view-in-github",
        "colab_type": "text"
      },
      "source": [
        "<a href=\"https://colab.research.google.com/github/ko4ro/Katakana/blob/master/preprocessing.ipynb\" target=\"_parent\"><img src=\"https://colab.research.google.com/assets/colab-badge.svg\" alt=\"Open In Colab\"/></a>"
      ]
    },
    {
      "cell_type": "code",
      "metadata": {
        "id": "UCxLV02r5axB"
      },
      "source": [
        "%matplotlib inline\n",
        "import pandas as pd\n",
        "import numpy as np\n",
        "import matplotlib.pyplot as plt\n",
        "import codecs as cd\n",
        "from sklearn.feature_selection import SelectFromModel\n",
        "from sklearn.linear_model import LassoCV\n",
        "import seaborn as sns"
      ],
      "execution_count": 6,
      "outputs": []
    },
    {
      "cell_type": "code",
      "metadata": {
        "colab": {
          "base_uri": "https://localhost:8080/"
        },
        "id": "1MyqwB7p52CC",
        "outputId": "ec3c4a94-a066-4397-8f4b-26c3454c69d8"
      },
      "source": [
        "!nvidia-smi"
      ],
      "execution_count": 7,
      "outputs": [
        {
          "output_type": "stream",
          "text": [
            "Sat May 29 09:11:11 2021       \n",
            "+-----------------------------------------------------------------------------+\n",
            "| NVIDIA-SMI 465.19.01    Driver Version: 460.32.03    CUDA Version: 11.2     |\n",
            "|-------------------------------+----------------------+----------------------+\n",
            "| GPU  Name        Persistence-M| Bus-Id        Disp.A | Volatile Uncorr. ECC |\n",
            "| Fan  Temp  Perf  Pwr:Usage/Cap|         Memory-Usage | GPU-Util  Compute M. |\n",
            "|                               |                      |               MIG M. |\n",
            "|===============================+======================+======================|\n",
            "|   0  Tesla P100-PCIE...  Off  | 00000000:00:04.0 Off |                    0 |\n",
            "| N/A   39C    P0    28W / 250W |      0MiB / 16280MiB |      0%      Default |\n",
            "|                               |                      |                  N/A |\n",
            "+-------------------------------+----------------------+----------------------+\n",
            "                                                                               \n",
            "+-----------------------------------------------------------------------------+\n",
            "| Processes:                                                                  |\n",
            "|  GPU   GI   CI        PID   Type   Process name                  GPU Memory |\n",
            "|        ID   ID                                                   Usage      |\n",
            "|=============================================================================|\n",
            "|  No running processes found                                                 |\n",
            "+-----------------------------------------------------------------------------+\n"
          ],
          "name": "stdout"
        }
      ]
    },
    {
      "cell_type": "code",
      "metadata": {
        "colab": {
          "base_uri": "https://localhost:8080/"
        },
        "id": "sD5qNGhMZbNN",
        "outputId": "42982c53-a301-49d6-bb73-af18e4acbd83"
      },
      "source": [
        "from google.colab import files\n",
        "\n",
        "!pip install -q kaggle\n",
        "!mkdir -p ~/.kaggle\n",
        "!cp kaggle.json ~/.kaggle/\n",
        "!ls ~/.kaggle\n",
        "!chmod 600 /root/.kaggle/kaggle.json\n",
        "\n",
        "!kaggle kernels list — user YOUR_USER — sort-by dateRun"
      ],
      "execution_count": 12,
      "outputs": [
        {
          "output_type": "stream",
          "text": [
            "cp: cannot stat 'kaggle.json': No such file or directory\n",
            "chmod: cannot access '/root/.kaggle/kaggle.json': No such file or directory\n",
            "Traceback (most recent call last):\n",
            "  File \"/usr/local/bin/kaggle\", line 5, in <module>\n",
            "    from kaggle.cli import main\n",
            "  File \"/usr/local/lib/python2.7/dist-packages/kaggle/__init__.py\", line 23, in <module>\n",
            "    api.authenticate()\n",
            "  File \"/usr/local/lib/python2.7/dist-packages/kaggle/api/kaggle_api_extended.py\", line 146, in authenticate\n",
            "    self.config_file, self.config_dir))\n",
            "IOError: Could not find kaggle.json. Make sure it's located in /root/.kaggle. Or use the environment method.\n"
          ],
          "name": "stdout"
        }
      ]
    },
    {
      "cell_type": "code",
      "metadata": {
        "colab": {
          "base_uri": "https://localhost:8080/",
          "height": 204
        },
        "id": "CVlo-hAb6KB-",
        "outputId": "5b020f74-e9f1-4220-b878-453d265ec179"
      },
      "source": [
        "df_train = pd.read_csv('/content/df_train.csv')\n",
        "#最初の五行を表示してみる。\n",
        "display(df_train.head())"
      ],
      "execution_count": 9,
      "outputs": [
        {
          "output_type": "display_data",
          "data": {
            "text/html": [
              "<div>\n",
              "<style scoped>\n",
              "    .dataframe tbody tr th:only-of-type {\n",
              "        vertical-align: middle;\n",
              "    }\n",
              "\n",
              "    .dataframe tbody tr th {\n",
              "        vertical-align: top;\n",
              "    }\n",
              "\n",
              "    .dataframe thead th {\n",
              "        text-align: right;\n",
              "    }\n",
              "</style>\n",
              "<table border=\"1\" class=\"dataframe\">\n",
              "  <thead>\n",
              "    <tr style=\"text-align: right;\">\n",
              "      <th></th>\n",
              "      <th>ID</th>\n",
              "      <th>ACTIVITY</th>\n",
              "      <th>TIME</th>\n",
              "      <th>SL</th>\n",
              "      <th>EEG</th>\n",
              "      <th>BP</th>\n",
              "      <th>HR</th>\n",
              "      <th>CIRCLUATION</th>\n",
              "    </tr>\n",
              "  </thead>\n",
              "  <tbody>\n",
              "    <tr>\n",
              "      <th>0</th>\n",
              "      <td>0</td>\n",
              "      <td>4</td>\n",
              "      <td>1954.23</td>\n",
              "      <td>55.5372</td>\n",
              "      <td>-368.000</td>\n",
              "      <td>97</td>\n",
              "      <td>33</td>\n",
              "      <td>5</td>\n",
              "    </tr>\n",
              "    <tr>\n",
              "      <th>1</th>\n",
              "      <td>1</td>\n",
              "      <td>0</td>\n",
              "      <td>17450.00</td>\n",
              "      <td>120164.0000</td>\n",
              "      <td>-7539.000</td>\n",
              "      <td>66</td>\n",
              "      <td>347</td>\n",
              "      <td>4535</td>\n",
              "    </tr>\n",
              "    <tr>\n",
              "      <th>2</th>\n",
              "      <td>2</td>\n",
              "      <td>0</td>\n",
              "      <td>12024.50</td>\n",
              "      <td>19634.0000</td>\n",
              "      <td>-3361.000</td>\n",
              "      <td>86</td>\n",
              "      <td>167</td>\n",
              "      <td>973</td>\n",
              "    </tr>\n",
              "    <tr>\n",
              "      <th>3</th>\n",
              "      <td>3</td>\n",
              "      <td>4</td>\n",
              "      <td>13413.00</td>\n",
              "      <td>46643.3000</td>\n",
              "      <td>-5735.430</td>\n",
              "      <td>65</td>\n",
              "      <td>273</td>\n",
              "      <td>2061</td>\n",
              "    </tr>\n",
              "    <tr>\n",
              "      <th>4</th>\n",
              "      <td>4</td>\n",
              "      <td>2</td>\n",
              "      <td>5325.98</td>\n",
              "      <td>3491.2600</td>\n",
              "      <td>-809.996</td>\n",
              "      <td>50</td>\n",
              "      <td>51</td>\n",
              "      <td>132</td>\n",
              "    </tr>\n",
              "  </tbody>\n",
              "</table>\n",
              "</div>"
            ],
            "text/plain": [
              "   ID  ACTIVITY      TIME           SL       EEG  BP   HR  CIRCLUATION\n",
              "0   0         4   1954.23      55.5372  -368.000  97   33            5\n",
              "1   1         0  17450.00  120164.0000 -7539.000  66  347         4535\n",
              "2   2         0  12024.50   19634.0000 -3361.000  86  167          973\n",
              "3   3         4  13413.00   46643.3000 -5735.430  65  273         2061\n",
              "4   4         2   5325.98    3491.2600  -809.996  50   51          132"
            ]
          },
          "metadata": {
            "tags": []
          }
        }
      ]
    },
    {
      "cell_type": "code",
      "metadata": {
        "id": "l4gzKtvAAkFE"
      },
      "source": [
        "df_train_label = df_train['ACTIVITY']\n",
        "df_train = df_train.drop(columns=['ID','ACTIVITY'])"
      ],
      "execution_count": 13,
      "outputs": []
    },
    {
      "cell_type": "code",
      "metadata": {
        "colab": {
          "base_uri": "https://localhost:8080/"
        },
        "id": "cC3iVFz6A-iN",
        "outputId": "4f4e5355-5800-4af8-d156-cf0278d5b8b8"
      },
      "source": [
        "df_train_label.head()"
      ],
      "execution_count": 46,
      "outputs": [
        {
          "output_type": "execute_result",
          "data": {
            "text/plain": [
              "0    4\n",
              "1    0\n",
              "2    0\n",
              "3    4\n",
              "4    2\n",
              "Name: ACTIVITY, dtype: int64"
            ]
          },
          "metadata": {
            "tags": []
          },
          "execution_count": 46
        }
      ]
    },
    {
      "cell_type": "code",
      "metadata": {
        "colab": {
          "base_uri": "https://localhost:8080/",
          "height": 204
        },
        "id": "irsu0e7eBJFt",
        "outputId": "a0799b4b-cf36-4ac7-d06e-fd93140c2ca3"
      },
      "source": [
        "df_train.head()"
      ],
      "execution_count": 47,
      "outputs": [
        {
          "output_type": "execute_result",
          "data": {
            "text/html": [
              "<div>\n",
              "<style scoped>\n",
              "    .dataframe tbody tr th:only-of-type {\n",
              "        vertical-align: middle;\n",
              "    }\n",
              "\n",
              "    .dataframe tbody tr th {\n",
              "        vertical-align: top;\n",
              "    }\n",
              "\n",
              "    .dataframe thead th {\n",
              "        text-align: right;\n",
              "    }\n",
              "</style>\n",
              "<table border=\"1\" class=\"dataframe\">\n",
              "  <thead>\n",
              "    <tr style=\"text-align: right;\">\n",
              "      <th></th>\n",
              "      <th>TIME</th>\n",
              "      <th>SL</th>\n",
              "      <th>EEG</th>\n",
              "      <th>BP</th>\n",
              "      <th>HR</th>\n",
              "      <th>CIRCLUATION</th>\n",
              "      <th>DAYTIME</th>\n",
              "    </tr>\n",
              "  </thead>\n",
              "  <tbody>\n",
              "    <tr>\n",
              "      <th>0</th>\n",
              "      <td>2</td>\n",
              "      <td>55.5372</td>\n",
              "      <td>-368.000</td>\n",
              "      <td>97</td>\n",
              "      <td>33</td>\n",
              "      <td>5</td>\n",
              "      <td>morning</td>\n",
              "    </tr>\n",
              "    <tr>\n",
              "      <th>1</th>\n",
              "      <td>2</td>\n",
              "      <td>120164.0000</td>\n",
              "      <td>-7539.000</td>\n",
              "      <td>66</td>\n",
              "      <td>347</td>\n",
              "      <td>4535</td>\n",
              "      <td>morning</td>\n",
              "    </tr>\n",
              "    <tr>\n",
              "      <th>2</th>\n",
              "      <td>2</td>\n",
              "      <td>19634.0000</td>\n",
              "      <td>-3361.000</td>\n",
              "      <td>86</td>\n",
              "      <td>167</td>\n",
              "      <td>973</td>\n",
              "      <td>morning</td>\n",
              "    </tr>\n",
              "    <tr>\n",
              "      <th>3</th>\n",
              "      <td>2</td>\n",
              "      <td>46643.3000</td>\n",
              "      <td>-5735.430</td>\n",
              "      <td>65</td>\n",
              "      <td>273</td>\n",
              "      <td>2061</td>\n",
              "      <td>morning</td>\n",
              "    </tr>\n",
              "    <tr>\n",
              "      <th>4</th>\n",
              "      <td>2</td>\n",
              "      <td>3491.2600</td>\n",
              "      <td>-809.996</td>\n",
              "      <td>50</td>\n",
              "      <td>51</td>\n",
              "      <td>132</td>\n",
              "      <td>morning</td>\n",
              "    </tr>\n",
              "  </tbody>\n",
              "</table>\n",
              "</div>"
            ],
            "text/plain": [
              "   TIME           SL       EEG  BP   HR  CIRCLUATION  DAYTIME\n",
              "0     2      55.5372  -368.000  97   33            5  morning\n",
              "1     2  120164.0000 -7539.000  66  347         4535  morning\n",
              "2     2   19634.0000 -3361.000  86  167          973  morning\n",
              "3     2   46643.3000 -5735.430  65  273         2061  morning\n",
              "4     2    3491.2600  -809.996  50   51          132  morning"
            ]
          },
          "metadata": {
            "tags": []
          },
          "execution_count": 47
        }
      ]
    },
    {
      "cell_type": "code",
      "metadata": {
        "id": "fJt7xpWAcFrL"
      },
      "source": [
        "def get_daytime(td):\n",
        "    m, s = divmod(td.seconds, 60)\n",
        "    h, m = divmod(m, 60)\n",
        "    if 4 < h < 6:\n",
        "      return \"dawn\"\n",
        "    elif h < 12:\n",
        "      return \"morning\"\n",
        "    elif h < 16:\n",
        "      return \"afternoon\"\n",
        "    elif h < 16:\n",
        "      return \"evening\"\n",
        "    else:\n",
        "      return \"night\""
      ],
      "execution_count": 33,
      "outputs": []
    },
    {
      "cell_type": "code",
      "metadata": {
        "id": "K789npB9bIAB"
      },
      "source": [
        "import datetime\n",
        "datimes = [ get_daytime(datetime.timedelta(seconds=second)) for second in df_train[\"TIME\"]]\n",
        "df_train['TIME'] = datimes"
      ],
      "execution_count": 39,
      "outputs": []
    },
    {
      "cell_type": "code",
      "metadata": {
        "colab": {
          "base_uri": "https://localhost:8080/",
          "height": 204
        },
        "id": "IOC4zIvTfDrk",
        "outputId": "5e89fa9d-6f9e-496b-b4a8-87c4aa67eea1"
      },
      "source": [
        "df_train.head()"
      ],
      "execution_count": 44,
      "outputs": [
        {
          "output_type": "execute_result",
          "data": {
            "text/html": [
              "<div>\n",
              "<style scoped>\n",
              "    .dataframe tbody tr th:only-of-type {\n",
              "        vertical-align: middle;\n",
              "    }\n",
              "\n",
              "    .dataframe tbody tr th {\n",
              "        vertical-align: top;\n",
              "    }\n",
              "\n",
              "    .dataframe thead th {\n",
              "        text-align: right;\n",
              "    }\n",
              "</style>\n",
              "<table border=\"1\" class=\"dataframe\">\n",
              "  <thead>\n",
              "    <tr style=\"text-align: right;\">\n",
              "      <th></th>\n",
              "      <th>TIME</th>\n",
              "      <th>SL</th>\n",
              "      <th>EEG</th>\n",
              "      <th>BP</th>\n",
              "      <th>HR</th>\n",
              "      <th>CIRCLUATION</th>\n",
              "      <th>DAYTIME</th>\n",
              "    </tr>\n",
              "  </thead>\n",
              "  <tbody>\n",
              "    <tr>\n",
              "      <th>0</th>\n",
              "      <td>2</td>\n",
              "      <td>55.5372</td>\n",
              "      <td>-368.000</td>\n",
              "      <td>97</td>\n",
              "      <td>33</td>\n",
              "      <td>5</td>\n",
              "      <td>morning</td>\n",
              "    </tr>\n",
              "    <tr>\n",
              "      <th>1</th>\n",
              "      <td>2</td>\n",
              "      <td>120164.0000</td>\n",
              "      <td>-7539.000</td>\n",
              "      <td>66</td>\n",
              "      <td>347</td>\n",
              "      <td>4535</td>\n",
              "      <td>morning</td>\n",
              "    </tr>\n",
              "    <tr>\n",
              "      <th>2</th>\n",
              "      <td>2</td>\n",
              "      <td>19634.0000</td>\n",
              "      <td>-3361.000</td>\n",
              "      <td>86</td>\n",
              "      <td>167</td>\n",
              "      <td>973</td>\n",
              "      <td>morning</td>\n",
              "    </tr>\n",
              "    <tr>\n",
              "      <th>3</th>\n",
              "      <td>2</td>\n",
              "      <td>46643.3000</td>\n",
              "      <td>-5735.430</td>\n",
              "      <td>65</td>\n",
              "      <td>273</td>\n",
              "      <td>2061</td>\n",
              "      <td>morning</td>\n",
              "    </tr>\n",
              "    <tr>\n",
              "      <th>4</th>\n",
              "      <td>2</td>\n",
              "      <td>3491.2600</td>\n",
              "      <td>-809.996</td>\n",
              "      <td>50</td>\n",
              "      <td>51</td>\n",
              "      <td>132</td>\n",
              "      <td>morning</td>\n",
              "    </tr>\n",
              "  </tbody>\n",
              "</table>\n",
              "</div>"
            ],
            "text/plain": [
              "   TIME           SL       EEG  BP   HR  CIRCLUATION  DAYTIME\n",
              "0     2      55.5372  -368.000  97   33            5  morning\n",
              "1     2  120164.0000 -7539.000  66  347         4535  morning\n",
              "2     2   19634.0000 -3361.000  86  167          973  morning\n",
              "3     2   46643.3000 -5735.430  65  273         2061  morning\n",
              "4     2    3491.2600  -809.996  50   51          132  morning"
            ]
          },
          "metadata": {
            "tags": []
          },
          "execution_count": 44
        }
      ]
    },
    {
      "cell_type": "code",
      "metadata": {
        "id": "5y-SIiyVabRh"
      },
      "source": [
        "from sklearn.preprocessing import LabelEncoder\n",
        "le = LabelEncoder()\n",
        "le = le.fit(df_train['TIME'])\n",
        "df_train['TIME'] = le.transform(df_train['TIME'])"
      ],
      "execution_count": 41,
      "outputs": []
    },
    {
      "cell_type": "code",
      "metadata": {
        "colab": {
          "base_uri": "https://localhost:8080/",
          "height": 569
        },
        "id": "eHoYozPt6btJ",
        "outputId": "1ae5604f-0a19-4e69-84cf-458887348a34"
      },
      "source": [
        "#統計値を表示してみる。\n",
        "display(df_train.describe())\n",
        "#欠損値がある行数を数えてみる。\n",
        "display(df_train.isnull().sum())\n",
        "#各列のデータタイプを確認してみる。\n",
        "display(df_train.dtypes)"
      ],
      "execution_count": 43,
      "outputs": [
        {
          "output_type": "display_data",
          "data": {
            "text/html": [
              "<div>\n",
              "<style scoped>\n",
              "    .dataframe tbody tr th:only-of-type {\n",
              "        vertical-align: middle;\n",
              "    }\n",
              "\n",
              "    .dataframe tbody tr th {\n",
              "        vertical-align: top;\n",
              "    }\n",
              "\n",
              "    .dataframe thead th {\n",
              "        text-align: right;\n",
              "    }\n",
              "</style>\n",
              "<table border=\"1\" class=\"dataframe\">\n",
              "  <thead>\n",
              "    <tr style=\"text-align: right;\">\n",
              "      <th></th>\n",
              "      <th>TIME</th>\n",
              "      <th>SL</th>\n",
              "      <th>EEG</th>\n",
              "      <th>BP</th>\n",
              "      <th>HR</th>\n",
              "      <th>CIRCLUATION</th>\n",
              "    </tr>\n",
              "  </thead>\n",
              "  <tbody>\n",
              "    <tr>\n",
              "      <th>count</th>\n",
              "      <td>14744.000000</td>\n",
              "      <td>1.474400e+04</td>\n",
              "      <td>1.474400e+04</td>\n",
              "      <td>14744.000000</td>\n",
              "      <td>14744.000000</td>\n",
              "      <td>14744.000000</td>\n",
              "    </tr>\n",
              "    <tr>\n",
              "      <th>mean</th>\n",
              "      <td>1.946487</td>\n",
              "      <td>7.558490e+04</td>\n",
              "      <td>-5.779018e+03</td>\n",
              "      <td>58.437670</td>\n",
              "      <td>211.658098</td>\n",
              "      <td>2901.420510</td>\n",
              "    </tr>\n",
              "    <tr>\n",
              "      <th>std</th>\n",
              "      <td>0.226265</td>\n",
              "      <td>1.290485e+05</td>\n",
              "      <td>1.140682e+05</td>\n",
              "      <td>48.277632</td>\n",
              "      <td>130.502892</td>\n",
              "      <td>3855.159777</td>\n",
              "    </tr>\n",
              "    <tr>\n",
              "      <th>min</th>\n",
              "      <td>0.000000</td>\n",
              "      <td>4.222420e+01</td>\n",
              "      <td>-1.262600e+07</td>\n",
              "      <td>0.000000</td>\n",
              "      <td>33.000000</td>\n",
              "      <td>5.000000</td>\n",
              "    </tr>\n",
              "    <tr>\n",
              "      <th>25%</th>\n",
              "      <td>2.000000</td>\n",
              "      <td>9.917505e+03</td>\n",
              "      <td>-5.640000e+03</td>\n",
              "      <td>25.000000</td>\n",
              "      <td>119.000000</td>\n",
              "      <td>587.000000</td>\n",
              "    </tr>\n",
              "    <tr>\n",
              "      <th>50%</th>\n",
              "      <td>2.000000</td>\n",
              "      <td>3.116200e+04</td>\n",
              "      <td>-3.363255e+03</td>\n",
              "      <td>45.000000</td>\n",
              "      <td>180.000000</td>\n",
              "      <td>1581.000000</td>\n",
              "    </tr>\n",
              "    <tr>\n",
              "      <th>75%</th>\n",
              "      <td>2.000000</td>\n",
              "      <td>8.070895e+04</td>\n",
              "      <td>-2.155435e+03</td>\n",
              "      <td>79.000000</td>\n",
              "      <td>271.000000</td>\n",
              "      <td>3539.000000</td>\n",
              "    </tr>\n",
              "    <tr>\n",
              "      <th>max</th>\n",
              "      <td>2.000000</td>\n",
              "      <td>2.426140e+06</td>\n",
              "      <td>1.410000e+06</td>\n",
              "      <td>506.000000</td>\n",
              "      <td>986.000000</td>\n",
              "      <td>52210.000000</td>\n",
              "    </tr>\n",
              "  </tbody>\n",
              "</table>\n",
              "</div>"
            ],
            "text/plain": [
              "               TIME            SL  ...            HR   CIRCLUATION\n",
              "count  14744.000000  1.474400e+04  ...  14744.000000  14744.000000\n",
              "mean       1.946487  7.558490e+04  ...    211.658098   2901.420510\n",
              "std        0.226265  1.290485e+05  ...    130.502892   3855.159777\n",
              "min        0.000000  4.222420e+01  ...     33.000000      5.000000\n",
              "25%        2.000000  9.917505e+03  ...    119.000000    587.000000\n",
              "50%        2.000000  3.116200e+04  ...    180.000000   1581.000000\n",
              "75%        2.000000  8.070895e+04  ...    271.000000   3539.000000\n",
              "max        2.000000  2.426140e+06  ...    986.000000  52210.000000\n",
              "\n",
              "[8 rows x 6 columns]"
            ]
          },
          "metadata": {
            "tags": []
          }
        },
        {
          "output_type": "display_data",
          "data": {
            "text/plain": [
              "TIME           0\n",
              "SL             0\n",
              "EEG            0\n",
              "BP             0\n",
              "HR             0\n",
              "CIRCLUATION    0\n",
              "DAYTIME        0\n",
              "dtype: int64"
            ]
          },
          "metadata": {
            "tags": []
          }
        },
        {
          "output_type": "display_data",
          "data": {
            "text/plain": [
              "TIME             int64\n",
              "SL             float64\n",
              "EEG            float64\n",
              "BP               int64\n",
              "HR               int64\n",
              "CIRCLUATION      int64\n",
              "DAYTIME         object\n",
              "dtype: object"
            ]
          },
          "metadata": {
            "tags": []
          }
        }
      ]
    },
    {
      "cell_type": "code",
      "metadata": {
        "id": "W-kpEjvdBS5n"
      },
      "source": [
        "df_train.to_csv('traindata.csv')\n",
        "df_train_label.to_csv('trainlabel.csv')"
      ],
      "execution_count": null,
      "outputs": []
    },
    {
      "cell_type": "code",
      "metadata": {
        "colab": {
          "base_uri": "https://localhost:8080/"
        },
        "id": "I3QIlnXuCGfY",
        "outputId": "e21d47e7-e666-402d-caf6-e33c328fc622"
      },
      "source": [
        "# LassoCVを使って、正則化の強さを自動決定したモデル（estimator）を作成\n",
        "estimator = LassoCV(normalize=True, cv=10)\n",
        "\n",
        "# モデルの情報を使って特徴選択を行うためSelectFromModelを使う\n",
        "# 今回は係数がしきい値（threshold）が1e-5以下である特徴を削除する\n",
        "sfm = SelectFromModel(estimator, threshold=1e-5)\n",
        "\n",
        "# fitで特徴選択を実行\n",
        "sfm.fit(df_train, df_train_label)"
      ],
      "execution_count": 49,
      "outputs": [
        {
          "output_type": "execute_result",
          "data": {
            "text/plain": [
              "SelectFromModel(estimator=LassoCV(alphas=None, copy_X=True, cv=10, eps=0.001,\n",
              "                                  fit_intercept=True, max_iter=1000,\n",
              "                                  n_alphas=100, n_jobs=None, normalize=True,\n",
              "                                  positive=False, precompute='auto',\n",
              "                                  random_state=None, selection='cyclic',\n",
              "                                  tol=0.0001, verbose=False),\n",
              "                max_features=None, norm_order=1, prefit=False, threshold=1e-05)"
            ]
          },
          "metadata": {
            "tags": []
          },
          "execution_count": 49
        }
      ]
    },
    {
      "cell_type": "code",
      "metadata": {
        "colab": {
          "base_uri": "https://localhost:8080/"
        },
        "id": "r60zJShPEs03",
        "outputId": "64403104-b9bb-4a72-dd13-67980fd8ccb7"
      },
      "source": [
        "# 削除すべき特徴の名前を取得 \n",
        "removed_idx  = ~sfm.get_support()\n",
        "df_train.columns[removed_idx] "
      ],
      "execution_count": 50,
      "outputs": [
        {
          "output_type": "execute_result",
          "data": {
            "text/plain": [
              "Index(['SL', 'EEG'], dtype='object')"
            ]
          },
          "metadata": {
            "tags": []
          },
          "execution_count": 50
        }
      ]
    }
  ]
}